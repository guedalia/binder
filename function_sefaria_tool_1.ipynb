{
 "cells": [
  {
   "cell_type": "code",
   "execution_count": 1,
   "metadata": {
    "colab": {},
    "colab_type": "code",
    "id": "5Kk-JGJXbKM1"
   },
   "outputs": [],
   "source": [
    "filename= \"https://github.com/guedalia/binder/raw/master/talmud_topics_clean.csv\""
   ]
  },
  {
   "cell_type": "code",
   "execution_count": 2,
   "metadata": {
    "colab": {},
    "colab_type": "code",
    "id": "0pZMHXsbbUsH"
   },
   "outputs": [],
   "source": [
    "import pandas as pd"
   ]
  },
  {
   "cell_type": "code",
   "execution_count": 3,
   "metadata": {
    "colab": {},
    "colab_type": "code",
    "id": "Dp7lM8FmzDx-"
   },
   "outputs": [],
   "source": [
    "import plotly.graph_objects as go"
   ]
  },
  {
   "cell_type": "code",
   "execution_count": 4,
   "metadata": {
    "colab": {},
    "colab_type": "code",
    "id": "N0TLE9VGhKht"
   },
   "outputs": [],
   "source": [
    "from ipywidgets import interact"
   ]
  },
  {
   "cell_type": "code",
   "execution_count": 5,
   "metadata": {
    "colab": {},
    "colab_type": "code",
    "id": "WZdGTlBNkJKm"
   },
   "outputs": [],
   "source": [
    "from collections import Counter"
   ]
  },
  {
   "cell_type": "code",
   "execution_count": 6,
   "metadata": {
    "colab": {},
    "colab_type": "code",
    "id": "RoYPilJQb36S"
   },
   "outputs": [],
   "source": [
    "topics = pd.read_csv(filename)"
   ]
  },
  {
   "cell_type": "code",
   "execution_count": 7,
   "metadata": {
    "colab": {},
    "colab_type": "code",
    "id": "xeNQsaxXlnOU"
   },
   "outputs": [],
   "source": [
    "def split_book_to_chunks(book_daf_min, book_daf_max, step, my_topics, num_most_common): \n",
    "  l=[]\n",
    "\n",
    "  for x in range(book_daf_min, book_daf_max, step):\n",
    "    slugs = my_topics[(my_topics[\"daf_int\"] >= x)&(my_topics[\"daf_int\"] < x+step)][\"Slug\"]\n",
    "    counted_slugs = Counter(slugs)\n",
    "    if x+step > book_daf_max:\n",
    "      new_step =  book_daf_max\n",
    "    else:\n",
    "      new_step =  x + step\n",
    "    \n",
    "    for top_slug in counted_slugs.most_common(num_most_common):\n",
    "      d={\n",
    "        'chunk': (x, new_step),\n",
    "        'topic': top_slug[0],\n",
    "        'count': top_slug[1]\n",
    "      }\n",
    "      l.append(d)\n",
    "      \n",
    "  return(l)\n",
    "    # print(x, new_step, counted_slugs.most_common(5))"
   ]
  },
  {
   "cell_type": "code",
   "execution_count": 10,
   "metadata": {
    "colab": {},
    "colab_type": "code",
    "id": "OlvjhzoE0Dvb"
   },
   "outputs": [
    {
     "data": {
      "application/vnd.jupyter.widget-view+json": {
       "model_id": "8c75c6e9a67f4dc3905aeab1360832cc",
       "version_major": 2,
       "version_minor": 0
      },
      "text/plain": [
       "interactive(children=(Dropdown(description='chosen_book', index=15, options=('Bava Metzia', 'Ketubot', 'Berakh…"
      ]
     },
     "metadata": {},
     "output_type": "display_data"
    }
   ],
   "source": [
    "@interact(chosen_book = set(topics[\"book\"]),  step = (1, 200, 1), num_most_common=(1,10,1))\n",
    "def topic_by_daf(chosen_book= \"Sukkah\", step = 10, num_most_common =1):\n",
    "  my_topics = topics[topics[\"book\"]==chosen_book]\n",
    "  \n",
    "  book_daf_min = min(my_topics[\"daf_int\"])\n",
    "  book_daf_max = max(my_topics[\"daf_int\"])\n",
    "\n",
    "  l = split_book_to_chunks(book_daf_min, book_daf_max, step, my_topics, num_most_common)\n",
    "\n",
    "  source = []\n",
    "  target = []\n",
    "  count = []\n",
    "\n",
    "  for x in l:\n",
    "    source.append(x['chunk'])\n",
    "    target.append(x['topic'])\n",
    "    count.append(x['count'])\n",
    "\n",
    "  color_lookup = {}\n",
    "  for i,x in enumerate(set(target)):\n",
    "    color_lookup[x] = i\n",
    "\n",
    "  color_list = []\n",
    "  for x in target:\n",
    "    color_list.append(color_lookup[x])\n",
    "  \n",
    "\n",
    "  fig = go.Figure(\n",
    "    go.Parcats(\n",
    "        dimensions=[\n",
    "             {'label': 'Dapim',\n",
    "             'values': source},\n",
    "             {'label': 'Topics',\n",
    "             'values': target},\n",
    "        ],\n",
    "        counts=count,\n",
    "        line={'color': color_list}\n",
    "      )\n",
    "  )\n",
    "  fig.update_layout(\n",
    "      title = chosen_book\n",
    "  )\n",
    "\n",
    "  fig.show()"
   ]
  },
  {
   "cell_type": "code",
   "execution_count": null,
   "metadata": {
    "colab": {},
    "colab_type": "code",
    "id": "yd_bz1tPx02V"
   },
   "outputs": [],
   "source": []
  }
 ],
 "metadata": {
  "colab": {
   "collapsed_sections": [],
   "name": "function sefaria_tool_1.ipynb",
   "provenance": []
  },
  "kernelspec": {
   "display_name": "Python 3",
   "language": "python",
   "name": "python3"
  },
  "language_info": {
   "codemirror_mode": {
    "name": "ipython",
    "version": 3
   },
   "file_extension": ".py",
   "mimetype": "text/x-python",
   "name": "python",
   "nbconvert_exporter": "python",
   "pygments_lexer": "ipython3",
   "version": "3.7.3"
  },
  "toc": {
   "base_numbering": 1,
   "nav_menu": {},
   "number_sections": true,
   "sideBar": true,
   "skip_h1_title": false,
   "title_cell": "Table of Contents",
   "title_sidebar": "Contents",
   "toc_cell": false,
   "toc_position": {},
   "toc_section_display": true,
   "toc_window_display": false
  }
 },
 "nbformat": 4,
 "nbformat_minor": 1
}
