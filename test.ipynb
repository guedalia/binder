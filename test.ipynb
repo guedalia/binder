{
 "cells": [
  {
   "cell_type": "markdown",
   "metadata": {},
   "source": [
    "# Please wait, this can take a little time..."
   ]
  },
  {
   "cell_type": "code",
   "execution_count": 1,
   "metadata": {},
   "outputs": [],
   "source": [
    "from ipywidgets import interact\n",
    "import plotly.graph_objects as go\n",
    "from IPython.display import clear_output"
   ]
  },
  {
   "cell_type": "code",
   "execution_count": 2,
   "metadata": {},
   "outputs": [],
   "source": [
    "# data\n",
    "srcs = ['אין חיב אלא', 'אין חיב אלא', 'אין חיב אלא', 'אין חיב אלא', 'אין חיב אלא', 'אין חיב אלא', 'אין חיב אלא', 'אין חיב אלא', 'אין חיב אלא', 'אין חיב אלא', 'אין חיב אלא', 'אין חיב אלא', 'אין חיב אלא', 'אין חיב אלא', 'אין חיב אלא', 'אין חיב אלא', 'אין חיב אלא', 'חיב אלא אחד', 'חיב אלא אחד', 'חיב אלא אחד', 'חיב אלא אחד', 'חיב אלא אחד', 'חיב אלא אחד', 'חיב אלא אחד', 'חיב אלא אחד', 'חיב אלא אחד', 'חיב אלא אחד', 'חיב אלא אחד', 'חיב אלא אחד', 'חיב אלא אחד', 'חיב אלא אחד', 'חיב על כל', 'חיב על כל', 'חיב על כל', 'חיב על כל', 'חיב על כל', 'חיב על כל', 'חיב על כל', 'חיב על כל', 'חיב על כל', 'חיב על כל', 'חיב על כל', 'חיב על כל', 'חיב על כל', 'חיב על כל', 'אין חיב על', 'אין חיב על', 'אין חיב על', 'אין חיב על', 'אין חיב על', 'אין חיב על', 'אין חיב על', 'אין חיב על', 'אין חיב על', 'אין חיב על', 'אין חיב על', 'אין חיב על', 'אין חיב על', 'אין חיב על', 'אין חיב על', 'אין חיב על', 'אין חיב על', 'אין חיב על', 'אין חיב על', 'אין חיב על', 'אין חיב על', 'אין חיב על', 'אין חיב על', 'חיב על משום', 'חיב על משום', 'חיב על משום', 'חיב על משום', 'חיב על משום', 'חיב על משום', 'חיב על משום', 'חיב על משום', 'חיב על משום', 'חיב על משום', 'חיב על משום', 'חיב על משום', 'חיב על משום', 'חיב על משום', 'חיב על משום', 'חיב על משום', 'חיב על משום', 'חיב על משום', 'חיב על משום', 'חיב על משום', 'חיב על משום']\n",
    "clr_trgt = [6, 16, 17, 3, 1, 11, 10, 19, 18, 13, 21, 14, 2, 4, 24, 7, 25, 6, 17, 16, 3, 10, 18, 13, 21, 19, 11, 14, 25, 2, 24, 17, 16, 6, 10, 21, 11, 1, 13, 18, 3, 19, 12, 23, 14, 13, 16, 6, 0, 24, 12, 17, 18, 11, 2, 7, 19, 8, 10, 20, 1, 23, 22, 9, 14, 25, 3, 4, 13, 7, 24, 20, 3, 17, 2, 19, 10, 11, 8, 25, 18, 6, 0, 5, 12, 23, 21, 15, 4]\n",
    "trgts = ['Shevuot', 'Shabbat', 'Keritot', 'Sanhedrin', 'Horayot', 'Nazir', 'Makkot', 'Yevamot', 'Chullin', 'Zevachim', 'Kiddushin', 'Nedarim', 'Temurah', 'Yoma', 'Menachot', 'Meilah', 'Bava_Metzia', 'Shevuot', 'Keritot', 'Shabbat', 'Sanhedrin', 'Makkot', 'Chullin', 'Zevachim', 'Kiddushin', 'Yevamot', 'Nazir', 'Nedarim', 'Bava_Metzia', 'Temurah', 'Menachot', 'Keritot', 'Shabbat', 'Shevuot', 'Makkot', 'Kiddushin', 'Nazir', 'Horayot', 'Zevachim', 'Chullin', 'Sanhedrin', 'Yevamot', 'Niddah', 'Bava_Kamma', 'Nedarim', 'Zevachim', 'Shabbat', 'Shevuot', '', 'Menachot', 'Niddah', 'Keritot', 'Chullin', 'Nazir', 'Temurah', 'Meilah', 'Yevamot', 'Pesachim', 'Makkot', 'Eruvin', 'Horayot', 'Bava_Kamma', 'Avodah_Zarah', 'Bava_Batra', 'Nedarim', 'Bava_Metzia', 'Sanhedrin', 'Yoma', 'Zevachim', 'Meilah', 'Menachot', 'Eruvin', 'Sanhedrin', 'Keritot', 'Temurah', 'Yevamot', 'Makkot', 'Nazir', 'Pesachim', 'Bava_Metzia', 'Chullin', 'Shevuot', '', 'Rosh_Hashanah', 'Niddah', 'Bava_Kamma', 'Kiddushin', 'Beitzah', 'Yoma']\n",
    "vls = [25, 25, 23, 20, 7, 6, 6, 6, 6, 6, 4, 2, 2, 1, 1, 1, 1, 18, 17, 16, 11, 6, 6, 5, 4, 4, 3, 2, 1, 1, 1, 30, 21, 15, 8, 5, 3, 3, 2, 2, 2, 1, 1, 1, 1, 34, 18, 14, 9, 8, 7, 6, 6, 4, 4, 3, 3, 3, 3, 3, 2, 1, 1, 1, 1, 1, 1, 1, 27, 19, 10, 6, 6, 5, 5, 4, 3, 2, 2, 2, 2, 2, 1, 1, 1, 1, 1, 1, 1]"
   ]
  },
  {
   "cell_type": "code",
   "execution_count": 3,
   "metadata": {},
   "outputs": [
    {
     "data": {
      "application/vnd.jupyter.widget-view+json": {
       "model_id": "74b7bf9defef439792e42109d911e666",
       "version_major": 2,
       "version_minor": 0
      },
      "text/plain": [
       "interactive(children=(Checkbox(value=True, description='x'), IntSlider(value=5, description='y', min=1, step=5…"
      ]
     },
     "metadata": {},
     "output_type": "display_data"
    }
   ],
   "source": [
    "@interact(x=True, y=(1,100,5), z=['apples','oranges'])\n",
    "def g(x=True, y=5, z='ads'):\n",
    "    print('start')\n",
    "    clear_output()\n",
    "    print('Please wait....')\n",
    "    \n",
    "    # plot \n",
    "    fig = go.Figure(\n",
    "        go.Parcats(\n",
    "            dimensions=[\n",
    "                {'label': 'Phrase',\n",
    "                 'values': srcs[:y]},\n",
    "                {'label': 'Source',\n",
    "                 'values': trgts[:y]},\n",
    "            ],\n",
    "            counts=vls[:y],\n",
    "            line={'color': clr_trgt[:y]}\n",
    "        )\n",
    "    )\n",
    "\n",
    "    clear_output()\n",
    "    # to show inline in notebook\n",
    "    fig.show()"
   ]
  },
  {
   "cell_type": "code",
   "execution_count": null,
   "metadata": {},
   "outputs": [],
   "source": []
  }
 ],
 "metadata": {
  "kernelspec": {
   "display_name": "Python 3",
   "language": "python",
   "name": "python3"
  },
  "language_info": {
   "codemirror_mode": {
    "name": "ipython",
    "version": 3
   },
   "file_extension": ".py",
   "mimetype": "text/x-python",
   "name": "python",
   "nbconvert_exporter": "python",
   "pygments_lexer": "ipython3",
   "version": "3.7.3"
  },
  "toc": {
   "base_numbering": 1,
   "nav_menu": {},
   "number_sections": true,
   "sideBar": true,
   "skip_h1_title": false,
   "title_cell": "Table of Contents",
   "title_sidebar": "Contents",
   "toc_cell": false,
   "toc_position": {},
   "toc_section_display": true,
   "toc_window_display": false
  }
 },
 "nbformat": 4,
 "nbformat_minor": 2
}
